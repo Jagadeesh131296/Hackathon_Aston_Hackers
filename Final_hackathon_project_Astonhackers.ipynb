{
 "cells": [
  {
   "cell_type": "markdown",
   "id": "8e794cbb",
   "metadata": {},
   "source": [
    "# DATA SCIENCE FOR HEALTHCARE "
   ]
  },
  {
   "cell_type": "markdown",
   "id": "c4566e9d",
   "metadata": {},
   "source": [
    "# ASTON HACKERS "
   ]
  },
  {
   "cell_type": "markdown",
   "id": "ddb82eca",
   "metadata": {},
   "source": [
    "## Team members : \n",
    "### Nazrana Perween\n",
    "### Keerthana Devanahalli Nagabhushana\n",
    "### Syed Naqui Ali\n",
    "### Jagadeesh Jothi Selvaraj"
   ]
  },
  {
   "cell_type": "code",
   "execution_count": 57,
   "id": "63b8fa5c",
   "metadata": {},
   "outputs": [],
   "source": [
    "#importing pandas library \n",
    "import pandas as pd"
   ]
  },
  {
   "cell_type": "code",
   "execution_count": 58,
   "id": "b768ec1e",
   "metadata": {},
   "outputs": [
    {
     "name": "stderr",
     "output_type": "stream",
     "text": [
      "C:\\Users\\syedn\\anaconda3\\lib\\site-packages\\IPython\\core\\interactiveshell.py:3444: DtypeWarning: Columns (5,7) have mixed types.Specify dtype option on import or set low_memory=False.\n",
      "  exec(code_obj, self.user_global_ns, self.user_ns)\n"
     ]
    }
   ],
   "source": [
    "#importing the dataset\n",
    "df=pd.read_csv(\"df_train.csv\")"
   ]
  },
  {
   "cell_type": "code",
   "execution_count": 59,
   "id": "3d383218",
   "metadata": {},
   "outputs": [
    {
     "data": {
      "text/plain": [
       "True"
      ]
     },
     "execution_count": 59,
     "metadata": {},
     "output_type": "execute_result"
    }
   ],
   "source": [
    "#finding the null values in the dataset \n",
    "df.isnull().values.any()"
   ]
  },
  {
   "cell_type": "code",
   "execution_count": 60,
   "id": "09321ef7",
   "metadata": {},
   "outputs": [
    {
     "data": {
      "text/html": [
       "<div>\n",
       "<style scoped>\n",
       "    .dataframe tbody tr th:only-of-type {\n",
       "        vertical-align: middle;\n",
       "    }\n",
       "\n",
       "    .dataframe tbody tr th {\n",
       "        vertical-align: top;\n",
       "    }\n",
       "\n",
       "    .dataframe thead th {\n",
       "        text-align: right;\n",
       "    }\n",
       "</style>\n",
       "<table border=\"1\" class=\"dataframe\">\n",
       "  <thead>\n",
       "    <tr style=\"text-align: right;\">\n",
       "      <th></th>\n",
       "      <th>Info_PepID</th>\n",
       "      <th>Info_organism_id</th>\n",
       "      <th>Info_protein_id</th>\n",
       "      <th>Info_pos</th>\n",
       "      <th>Info_AA</th>\n",
       "      <th>Info_pubmed_id</th>\n",
       "      <th>Info_epitope_id</th>\n",
       "      <th>Info_host_id</th>\n",
       "      <th>Info_nPos</th>\n",
       "      <th>Info_nNeg</th>\n",
       "      <th>...</th>\n",
       "      <th>feat_local_ScalesGap_scl2.1.lag3</th>\n",
       "      <th>feat_local_ScalesGap_scl3.1.lag3</th>\n",
       "      <th>feat_local_ScalesGap_scl4.1.lag3</th>\n",
       "      <th>feat_local_ScalesGap_scl5.1.lag3</th>\n",
       "      <th>feat_local_ScalesGap_scl3.2.lag3</th>\n",
       "      <th>feat_local_ScalesGap_scl4.2.lag3</th>\n",
       "      <th>feat_local_ScalesGap_scl5.2.lag3</th>\n",
       "      <th>feat_local_ScalesGap_scl4.3.lag3</th>\n",
       "      <th>feat_local_ScalesGap_scl5.3.lag3</th>\n",
       "      <th>feat_local_ScalesGap_scl5.4.lag3</th>\n",
       "    </tr>\n",
       "  </thead>\n",
       "  <tbody>\n",
       "    <tr>\n",
       "      <th>0</th>\n",
       "      <td>P23253.1:2</td>\n",
       "      <td>5693</td>\n",
       "      <td>P23253.1</td>\n",
       "      <td>24</td>\n",
       "      <td>Y</td>\n",
       "      <td>1378212</td>\n",
       "      <td>75914</td>\n",
       "      <td>9606,9986</td>\n",
       "      <td>0</td>\n",
       "      <td>2</td>\n",
       "      <td>...</td>\n",
       "      <td>-6.534201</td>\n",
       "      <td>-23.461905</td>\n",
       "      <td>-2.026497</td>\n",
       "      <td>-10.976587</td>\n",
       "      <td>10.632502</td>\n",
       "      <td>1.899121</td>\n",
       "      <td>5.987014</td>\n",
       "      <td>22.757457</td>\n",
       "      <td>-6.143911</td>\n",
       "      <td>-1.136779</td>\n",
       "    </tr>\n",
       "    <tr>\n",
       "      <th>1</th>\n",
       "      <td>P23253.1:2</td>\n",
       "      <td>5693</td>\n",
       "      <td>P23253.1</td>\n",
       "      <td>25</td>\n",
       "      <td>S</td>\n",
       "      <td>1378212</td>\n",
       "      <td>75914</td>\n",
       "      <td>9606,9986</td>\n",
       "      <td>0</td>\n",
       "      <td>2</td>\n",
       "      <td>...</td>\n",
       "      <td>-4.392078</td>\n",
       "      <td>-1.733373</td>\n",
       "      <td>7.224207</td>\n",
       "      <td>-2.539621</td>\n",
       "      <td>8.304244</td>\n",
       "      <td>-0.358899</td>\n",
       "      <td>5.584130</td>\n",
       "      <td>17.243431</td>\n",
       "      <td>-6.938871</td>\n",
       "      <td>-8.858502</td>\n",
       "    </tr>\n",
       "    <tr>\n",
       "      <th>2</th>\n",
       "      <td>P23253.1:2</td>\n",
       "      <td>5693</td>\n",
       "      <td>P23253.1</td>\n",
       "      <td>26</td>\n",
       "      <td>V</td>\n",
       "      <td>1378212</td>\n",
       "      <td>75914</td>\n",
       "      <td>9606,9986</td>\n",
       "      <td>0</td>\n",
       "      <td>2</td>\n",
       "      <td>...</td>\n",
       "      <td>-7.734902</td>\n",
       "      <td>1.585801</td>\n",
       "      <td>-2.086515</td>\n",
       "      <td>3.191944</td>\n",
       "      <td>1.550936</td>\n",
       "      <td>5.611089</td>\n",
       "      <td>2.161179</td>\n",
       "      <td>9.840781</td>\n",
       "      <td>-2.644685</td>\n",
       "      <td>-10.233049</td>\n",
       "    </tr>\n",
       "    <tr>\n",
       "      <th>3</th>\n",
       "      <td>P23253.1:2</td>\n",
       "      <td>5693</td>\n",
       "      <td>P23253.1</td>\n",
       "      <td>27</td>\n",
       "      <td>D</td>\n",
       "      <td>1378212</td>\n",
       "      <td>75914</td>\n",
       "      <td>9606,9986</td>\n",
       "      <td>0</td>\n",
       "      <td>2</td>\n",
       "      <td>...</td>\n",
       "      <td>-9.555528</td>\n",
       "      <td>0.306586</td>\n",
       "      <td>-2.501868</td>\n",
       "      <td>2.321484</td>\n",
       "      <td>2.366742</td>\n",
       "      <td>5.858835</td>\n",
       "      <td>2.451758</td>\n",
       "      <td>10.419416</td>\n",
       "      <td>-1.646064</td>\n",
       "      <td>-10.823489</td>\n",
       "    </tr>\n",
       "    <tr>\n",
       "      <th>4</th>\n",
       "      <td>P23253.1:2</td>\n",
       "      <td>5693</td>\n",
       "      <td>P23253.1</td>\n",
       "      <td>28</td>\n",
       "      <td>D</td>\n",
       "      <td>1378212</td>\n",
       "      <td>75914</td>\n",
       "      <td>9606,9986</td>\n",
       "      <td>0</td>\n",
       "      <td>2</td>\n",
       "      <td>...</td>\n",
       "      <td>-7.413021</td>\n",
       "      <td>5.494316</td>\n",
       "      <td>5.306029</td>\n",
       "      <td>4.775133</td>\n",
       "      <td>-2.842552</td>\n",
       "      <td>-1.012134</td>\n",
       "      <td>-0.069497</td>\n",
       "      <td>19.691379</td>\n",
       "      <td>1.410738</td>\n",
       "      <td>-11.099221</td>\n",
       "    </tr>\n",
       "  </tbody>\n",
       "</table>\n",
       "<p>5 rows × 399 columns</p>\n",
       "</div>"
      ],
      "text/plain": [
       "   Info_PepID  Info_organism_id Info_protein_id  Info_pos Info_AA  \\\n",
       "0  P23253.1:2              5693        P23253.1        24       Y   \n",
       "1  P23253.1:2              5693        P23253.1        25       S   \n",
       "2  P23253.1:2              5693        P23253.1        26       V   \n",
       "3  P23253.1:2              5693        P23253.1        27       D   \n",
       "4  P23253.1:2              5693        P23253.1        28       D   \n",
       "\n",
       "  Info_pubmed_id Info_epitope_id Info_host_id Info_nPos Info_nNeg  ...  \\\n",
       "0        1378212           75914    9606,9986         0         2  ...   \n",
       "1        1378212           75914    9606,9986         0         2  ...   \n",
       "2        1378212           75914    9606,9986         0         2  ...   \n",
       "3        1378212           75914    9606,9986         0         2  ...   \n",
       "4        1378212           75914    9606,9986         0         2  ...   \n",
       "\n",
       "  feat_local_ScalesGap_scl2.1.lag3  feat_local_ScalesGap_scl3.1.lag3  \\\n",
       "0                        -6.534201                        -23.461905   \n",
       "1                        -4.392078                         -1.733373   \n",
       "2                        -7.734902                          1.585801   \n",
       "3                        -9.555528                          0.306586   \n",
       "4                        -7.413021                          5.494316   \n",
       "\n",
       "  feat_local_ScalesGap_scl4.1.lag3  feat_local_ScalesGap_scl5.1.lag3  \\\n",
       "0                        -2.026497                        -10.976587   \n",
       "1                         7.224207                         -2.539621   \n",
       "2                        -2.086515                          3.191944   \n",
       "3                        -2.501868                          2.321484   \n",
       "4                         5.306029                          4.775133   \n",
       "\n",
       "   feat_local_ScalesGap_scl3.2.lag3  feat_local_ScalesGap_scl4.2.lag3  \\\n",
       "0                         10.632502                          1.899121   \n",
       "1                          8.304244                         -0.358899   \n",
       "2                          1.550936                          5.611089   \n",
       "3                          2.366742                          5.858835   \n",
       "4                         -2.842552                         -1.012134   \n",
       "\n",
       "   feat_local_ScalesGap_scl5.2.lag3  feat_local_ScalesGap_scl4.3.lag3  \\\n",
       "0                          5.987014                         22.757457   \n",
       "1                          5.584130                         17.243431   \n",
       "2                          2.161179                          9.840781   \n",
       "3                          2.451758                         10.419416   \n",
       "4                         -0.069497                         19.691379   \n",
       "\n",
       "   feat_local_ScalesGap_scl5.3.lag3  feat_local_ScalesGap_scl5.4.lag3  \n",
       "0                         -6.143911                         -1.136779  \n",
       "1                         -6.938871                         -8.858502  \n",
       "2                         -2.644685                        -10.233049  \n",
       "3                         -1.646064                        -10.823489  \n",
       "4                          1.410738                        -11.099221  \n",
       "\n",
       "[5 rows x 399 columns]"
      ]
     },
     "execution_count": 60,
     "metadata": {},
     "output_type": "execute_result"
    }
   ],
   "source": [
    "#gives the fisrt five entries of the datset \n",
    "df.head()"
   ]
  },
  {
   "cell_type": "markdown",
   "id": "bb580488",
   "metadata": {},
   "source": [
    "# Finding Null values in the dataset"
   ]
  },
  {
   "cell_type": "code",
   "execution_count": 61,
   "id": "dadc05f6",
   "metadata": {},
   "outputs": [
    {
     "data": {
      "text/plain": [
       "Info_PepID                          0\n",
       "Info_organism_id                    0\n",
       "Info_protein_id                     0\n",
       "Info_pos                            0\n",
       "Info_AA                             0\n",
       "                                   ..\n",
       "feat_local_ScalesGap_scl4.2.lag3    0\n",
       "feat_local_ScalesGap_scl5.2.lag3    0\n",
       "feat_local_ScalesGap_scl4.3.lag3    0\n",
       "feat_local_ScalesGap_scl5.3.lag3    0\n",
       "feat_local_ScalesGap_scl5.4.lag3    0\n",
       "Length: 399, dtype: int64"
      ]
     },
     "execution_count": 61,
     "metadata": {},
     "output_type": "execute_result"
    }
   ],
   "source": [
    "#shows all the columns which contain missing values \n",
    "df.isnull().sum()"
   ]
  },
  {
   "cell_type": "markdown",
   "id": "03896572",
   "metadata": {},
   "source": [
    "### In this particular column we have 75843 number of null values which we will fix because it adds ambiguity to the analysis process  "
   ]
  },
  {
   "cell_type": "code",
   "execution_count": 62,
   "id": "b4b57636",
   "metadata": {},
   "outputs": [
    {
     "data": {
      "text/plain": [
       "75843"
      ]
     },
     "execution_count": 62,
     "metadata": {},
     "output_type": "execute_result"
    }
   ],
   "source": [
    "df['Info_pubmed_id'].isnull().sum()"
   ]
  },
  {
   "cell_type": "markdown",
   "id": "5b1d5bd6",
   "metadata": {},
   "source": [
    "### Importing the random library,we generate random numbers to fill the null values present in the column. "
   ]
  },
  {
   "cell_type": "code",
   "execution_count": 63,
   "id": "18cf57aa",
   "metadata": {},
   "outputs": [],
   "source": [
    "import random\n",
    "import numpy as np\n",
    "df['Info_pubmed_id'] = df['Info_pubmed_id'].replace(np.nan, random.randint(0,1))"
   ]
  },
  {
   "cell_type": "markdown",
   "id": "738674f3",
   "metadata": {},
   "source": [
    "### After executing the above step, we see there are zero null values present in the specific column. "
   ]
  },
  {
   "cell_type": "code",
   "execution_count": 64,
   "id": "b2aa4af3",
   "metadata": {},
   "outputs": [
    {
     "data": {
      "text/plain": [
       "0"
      ]
     },
     "execution_count": 64,
     "metadata": {},
     "output_type": "execute_result"
    }
   ],
   "source": [
    "df.isnull().sum().sum()"
   ]
  },
  {
   "cell_type": "markdown",
   "id": "c7bd35a3",
   "metadata": {},
   "source": [
    "### Length of all epitopes in info_window column is 15 "
   ]
  },
  {
   "cell_type": "code",
   "execution_count": 65,
   "id": "61075f36",
   "metadata": {},
   "outputs": [
    {
     "data": {
      "text/plain": [
       "0        15\n",
       "1        15\n",
       "2        15\n",
       "3        15\n",
       "4        15\n",
       "         ..\n",
       "76735    15\n",
       "76736    15\n",
       "76737    15\n",
       "76738    15\n",
       "76739    15\n",
       "Name: Info_window, Length: 76740, dtype: int64"
      ]
     },
     "execution_count": 65,
     "metadata": {},
     "output_type": "execute_result"
    }
   ],
   "source": [
    "df[\"Info_window\"].str.len()"
   ]
  },
  {
   "cell_type": "markdown",
   "id": "c3abd7c4",
   "metadata": {},
   "source": [
    "### In our dataset we see huge imbalance of different type of epitopes which is represented in the histogram below. "
   ]
  },
  {
   "cell_type": "code",
   "execution_count": 66,
   "id": "137a491f",
   "metadata": {},
   "outputs": [
    {
     "data": {
      "text/plain": [
       "-1    75709\n",
       " 1     1031\n",
       "Name: Class, dtype: int64"
      ]
     },
     "execution_count": 66,
     "metadata": {},
     "output_type": "execute_result"
    },
    {
     "data": {
      "image/png": "[encoded data removed]",
      "text/plain": [
       "<Figure size 1008x576 with 1 Axes>"
      ]
     },
     "metadata": {
      "needs_background": "light"
     },
     "output_type": "display_data"
    }
   ],
   "source": [
    "import matplotlib.pyplot as plot\n",
    "df['Class'].value_counts().plot(kind='bar',figsize=(14,8),legend=True)\n",
    "plot.xlabel('Class')\n",
    "plot.ylabel('Number of epitopes')\n",
    "plot.title('Class Imbalance',fontweight =\"bold\")\n",
    "df['Class'].value_counts()"
   ]
  },
  {
   "cell_type": "markdown",
   "id": "795c53e8",
   "metadata": {},
   "source": [
    "### There are multiple level of dependencies in the data , the most relevant one is the column Info_cluster "
   ]
  },
  {
   "cell_type": "code",
   "execution_count": 67,
   "id": "d873e141",
   "metadata": {},
   "outputs": [
    {
     "data": {
      "text/plain": [
       "([], [])"
      ]
     },
     "execution_count": 67,
     "metadata": {},
     "output_type": "execute_result"
    },
    {
     "data": {
      "image/png": "[encoded data removed]",
      "text/plain": [
       "<Figure size 1008x576 with 1 Axes>"
      ]
     },
     "metadata": {
      "needs_background": "light"
     },
     "output_type": "display_data"
    }
   ],
   "source": [
    "import matplotlib.pyplot as plot\n",
    "df['Info_cluster'].value_counts().plot(kind='bar',figsize=(14,8),legend=True)\n",
    "plot.xlabel('Info_cluster')\n",
    "plot.ylabel('Number of epitopes')\n",
    "plot.title('Clusters',fontweight =\"bold\")\n",
    "df['Info_cluster'].value_counts()\n",
    "plot.xticks([])\n"
   ]
  },
  {
   "cell_type": "markdown",
   "id": "c9f65571",
   "metadata": {},
   "source": [
    "### The figure depicts that amino acids in Class -1 appear more frequently than Class 1."
   ]
  },
  {
   "cell_type": "code",
   "execution_count": 68,
   "id": "7059b682",
   "metadata": {},
   "outputs": [
    {
     "data": {
      "text/plain": [
       "Text(0.5, 1.0, 'Frequency of aminoacid letters')"
      ]
     },
     "execution_count": 68,
     "metadata": {},
     "output_type": "execute_result"
    },
    {
     "data": {
      "image/png": "[encoded data removed]",
      "text/plain": [
       "<Figure size 1008x576 with 1 Axes>"
      ]
     },
     "metadata": {
      "needs_background": "light"
     },
     "output_type": "display_data"
    }
   ],
   "source": [
    "\"\"\" A grouped bar chart of the frequencies (%) of each aminoacid letter in \n",
    "Positive vs Negative observations\"\"\"\n",
    "\n",
    "import numpy as np\n",
    "class_df0 = df[df['Class'] == -1]\n",
    "class_df1 = df[df['Class'] == 1]\n",
    "\n",
    "\"\"\"Calculating the number of aminoacid letters in each class\"\"\"\n",
    "Y = pd.Series(list(class_df1.Info_AA.str.cat()), name = 'Characters').value_counts()\n",
    "X = pd.Series(list(class_df0.Info_AA.str.cat()), name = 'Characters').value_counts()\n",
    "Z = pd.Series(list(df.Info_AA.str.cat()), name = 'Observations').value_counts()\n",
    "\n",
    "\"\"\"Calculating the percentage of aminoacid letters in each class\"\"\"\n",
    "y = pd.Series(((Y/Z)*100).round(decimals = 2), name = 'Class:1')\n",
    "z = pd.Series(((X/Z)*100).round(decimals = 2), name = 'Class:-1')\n",
    "\n",
    "\"\"\"Appending all values in a dataframe\"\"\"\n",
    "m4d=pd.DataFrame()\n",
    "m4d['class -1'] = z \n",
    "m4d['class1'] = y\n",
    "#m4d['class1'] = m4d['class1'].fillna(0)\n",
    "\n",
    "\"\"\"Plotting the group bar chart\"\"\"\n",
    "x = np.arange(20)\n",
    "plot.figure(figsize=(14,8))\n",
    "plot.bar(x-0.2,m4d['class -1'],0.2)\n",
    "plot.bar(x+0.2,m4d['class1'],0.2)\n",
    "plot.xticks(x, ['A','L','K','S','E','T','D','V','G','N','Q','I','P','Y','R','F','H','M','W','C'])\n",
    "plot.legend(labels=['Class -1', 'Class 1'])\n",
    "plot.xlabel('Frequency')\n",
    "plot.ylabel('Percentage')\n",
    "plot.title('Frequency of aminoacid letters',\n",
    "          fontweight =\"bold\")"
   ]
  },
  {
   "cell_type": "markdown",
   "id": "cefa1da3",
   "metadata": {},
   "source": [
    "### using the GroupShuffleSplit, we are splitting the data into train and test based on Info_split. "
   ]
  },
  {
   "cell_type": "code",
   "execution_count": 69,
   "id": "5d0c93c3",
   "metadata": {},
   "outputs": [],
   "source": [
    "from sklearn.model_selection import GroupShuffleSplit\n",
    "splitter = GroupShuffleSplit(test_size=.20, n_splits=2, random_state = 7)\n",
    "split = splitter.split(df, groups=df['Info_split'])\n",
    "train_inds, test_inds = next(split)\n",
    "\n",
    "train = df.iloc[train_inds]\n",
    "test = df.iloc[test_inds]"
   ]
  },
  {
   "cell_type": "code",
   "execution_count": 70,
   "id": "da651b16",
   "metadata": {},
   "outputs": [],
   "source": [
    "#dropping the columns which are not necessary in test set \n",
    "test =test.drop(columns=['Info_PepID', 'Info_organism_id', 'Info_protein_id', 'Info_pos',\n",
    "       'Info_AA', 'Info_pubmed_id', 'Info_epitope_id', 'Info_host_id',\n",
    "       'Info_nPos', 'Info_nNeg','Info_window','Info_cluster','Info_split'])"
   ]
  },
  {
   "cell_type": "code",
   "execution_count": 71,
   "id": "8fb426fb",
   "metadata": {},
   "outputs": [],
   "source": [
    "#dropping the columns which are not necessary in train set.\n",
    "train =train.drop(columns=['Info_PepID', 'Info_organism_id', 'Info_protein_id', 'Info_pos',\n",
    "       'Info_AA', 'Info_pubmed_id', 'Info_epitope_id', 'Info_host_id',\n",
    "       'Info_nPos', 'Info_nNeg','Info_window','Info_cluster','Info_split'])"
   ]
  },
  {
   "cell_type": "code",
   "execution_count": 72,
   "id": "7cd5ce2d",
   "metadata": {},
   "outputs": [
    {
     "data": {
      "text/plain": [
       "(38377, 386)"
      ]
     },
     "execution_count": 72,
     "metadata": {},
     "output_type": "execute_result"
    }
   ],
   "source": [
    "#Printing the shape of train dataset\n",
    "train.shape"
   ]
  },
  {
   "cell_type": "code",
   "execution_count": 73,
   "id": "45287e60",
   "metadata": {},
   "outputs": [
    {
     "data": {
      "text/plain": [
       "(38363, 386)"
      ]
     },
     "execution_count": 73,
     "metadata": {},
     "output_type": "execute_result"
    }
   ],
   "source": [
    "#Printing the shape of test dataset\n",
    "test.shape"
   ]
  },
  {
   "cell_type": "markdown",
   "id": "a3d30474",
   "metadata": {},
   "source": [
    "# Using PCA Analysis on our train dataset "
   ]
  },
  {
   "cell_type": "code",
   "execution_count": 74,
   "id": "41ae66ff",
   "metadata": {},
   "outputs": [
    {
     "name": "stdout",
     "output_type": "stream",
     "text": [
      "(38377, 386)\n",
      "(38377, 2)\n"
     ]
    }
   ],
   "source": [
    "\"\"\"Projecting original data to 2 dimensional data using PCA\"\"\"\n",
    "from sklearn.decomposition import PCA\n",
    "pca=PCA(n_components=2)\n",
    "pca.fit(train)\n",
    "df_pca=pca.transform(train)\n",
    "print(train.shape)\n",
    "print(df_pca.shape)"
   ]
  },
  {
   "cell_type": "markdown",
   "id": "295f12e9",
   "metadata": {},
   "source": [
    "### The graph depicted below is after performing PCA Analysis. "
   ]
  },
  {
   "cell_type": "code",
   "execution_count": 75,
   "id": "42eb760a",
   "metadata": {},
   "outputs": [
    {
     "data": {
      "text/plain": [
       "Text(0.5, 1.0, 'PCA')"
      ]
     },
     "execution_count": 75,
     "metadata": {},
     "output_type": "execute_result"
    },
    {
     "data": {
      "image/png": "[encoded data removed]",
      "text/plain": [
       "<Figure size 432x288 with 1 Axes>"
      ]
     },
     "metadata": {
      "needs_background": "light"
     },
     "output_type": "display_data"
    }
   ],
   "source": [
    "\"\"\"Plotting after PCA\"\"\"\n",
    "import matplotlib.pyplot as plt\n",
    "plt.scatter(df_pca[:,0],df_pca[:,1],\n",
    "c=train['Class'],edgecolor='none')\n",
    "plt.xlabel('Principal component 1')\n",
    "plt.ylabel('Principal component 2')\n",
    "plt.title('PCA')"
   ]
  },
  {
   "cell_type": "code",
   "execution_count": 76,
   "id": "d01a3d2c",
   "metadata": {},
   "outputs": [],
   "source": [
    "from collections import Counter\n",
    "from sklearn.datasets import make_classification\n",
    "from imblearn.under_sampling import RandomUnderSampler"
   ]
  },
  {
   "cell_type": "markdown",
   "id": "c4095fdd",
   "metadata": {},
   "source": [
    "### Dropping the class column which is the target variable and retaining only the feature variables for the training purpose. "
   ]
  },
  {
   "cell_type": "code",
   "execution_count": 77,
   "id": "43ddffe7",
   "metadata": {},
   "outputs": [],
   "source": [
    "#Creating x_train values\n",
    "x_train = train.drop(columns ='Class')"
   ]
  },
  {
   "cell_type": "markdown",
   "id": "b01c8d08",
   "metadata": {},
   "source": [
    "### we take the target variables and store it in a variable Y. "
   ]
  },
  {
   "cell_type": "code",
   "execution_count": 78,
   "id": "85c5fc9b",
   "metadata": {},
   "outputs": [],
   "source": [
    "#Creating y_train values\n",
    "y_train=train['Class']"
   ]
  },
  {
   "cell_type": "code",
   "execution_count": 79,
   "id": "cbefce4d",
   "metadata": {},
   "outputs": [],
   "source": [
    "#Creating x_test values\n",
    "x_test = test.drop(columns ='Class')"
   ]
  },
  {
   "cell_type": "code",
   "execution_count": 80,
   "id": "2d36cb42",
   "metadata": {},
   "outputs": [],
   "source": [
    "#Creating y_test values\n",
    "y_test=test['Class']"
   ]
  },
  {
   "cell_type": "markdown",
   "id": "5b59c3e0",
   "metadata": {},
   "source": [
    "### Since we already predicted a huge class imbalance in our data, we are using RandomUnderSampler to balance the data set and accurately predicting the target variable Y. "
   ]
  },
  {
   "cell_type": "code",
   "execution_count": 81,
   "id": "f8b3a203",
   "metadata": {},
   "outputs": [],
   "source": [
    "#creating a column of the class values obtained from randomundersampler function and adding the column to the new dataframe.\n",
    "rus = RandomUnderSampler(random_state=42)\n",
    "X_res, y_res = rus.fit_resample(x_train,y_train)"
   ]
  },
  {
   "cell_type": "code",
   "execution_count": 82,
   "id": "147903ef",
   "metadata": {},
   "outputs": [
    {
     "data": {
      "text/html": [
       "<div>\n",
       "<style scoped>\n",
       "    .dataframe tbody tr th:only-of-type {\n",
       "        vertical-align: middle;\n",
       "    }\n",
       "\n",
       "    .dataframe tbody tr th {\n",
       "        vertical-align: top;\n",
       "    }\n",
       "\n",
       "    .dataframe thead th {\n",
       "        text-align: right;\n",
       "    }\n",
       "</style>\n",
       "<table border=\"1\" class=\"dataframe\">\n",
       "  <thead>\n",
       "    <tr style=\"text-align: right;\">\n",
       "      <th></th>\n",
       "      <th>feat_local_Entropy</th>\n",
       "      <th>feat_local_MolWeight</th>\n",
       "      <th>feat_local_AAtypes_Tiny</th>\n",
       "      <th>feat_local_AAtypes_Small</th>\n",
       "      <th>feat_local_AAtypes_Aliphatic</th>\n",
       "      <th>feat_local_AAtypes_Aromatic</th>\n",
       "      <th>feat_local_AAtypes_NonPolar</th>\n",
       "      <th>feat_local_AAtypes_Polar</th>\n",
       "      <th>feat_local_AAtypes_Charged</th>\n",
       "      <th>feat_local_AAtypes_Basic</th>\n",
       "      <th>...</th>\n",
       "      <th>feat_local_ScalesGap_scl2.1.lag3</th>\n",
       "      <th>feat_local_ScalesGap_scl3.1.lag3</th>\n",
       "      <th>feat_local_ScalesGap_scl4.1.lag3</th>\n",
       "      <th>feat_local_ScalesGap_scl5.1.lag3</th>\n",
       "      <th>feat_local_ScalesGap_scl3.2.lag3</th>\n",
       "      <th>feat_local_ScalesGap_scl4.2.lag3</th>\n",
       "      <th>feat_local_ScalesGap_scl5.2.lag3</th>\n",
       "      <th>feat_local_ScalesGap_scl4.3.lag3</th>\n",
       "      <th>feat_local_ScalesGap_scl5.3.lag3</th>\n",
       "      <th>feat_local_ScalesGap_scl5.4.lag3</th>\n",
       "    </tr>\n",
       "  </thead>\n",
       "  <tbody>\n",
       "    <tr>\n",
       "      <th>0</th>\n",
       "      <td>2.923231</td>\n",
       "      <td>2080.22</td>\n",
       "      <td>0.200000</td>\n",
       "      <td>0.333333</td>\n",
       "      <td>0.133333</td>\n",
       "      <td>0.000000</td>\n",
       "      <td>0.266667</td>\n",
       "      <td>0.733333</td>\n",
       "      <td>0.533333</td>\n",
       "      <td>0.266667</td>\n",
       "      <td>...</td>\n",
       "      <td>-27.600521</td>\n",
       "      <td>5.992530</td>\n",
       "      <td>10.273688</td>\n",
       "      <td>3.176641</td>\n",
       "      <td>-11.711654</td>\n",
       "      <td>5.088667</td>\n",
       "      <td>-11.889737</td>\n",
       "      <td>-10.239192</td>\n",
       "      <td>15.820483</td>\n",
       "      <td>-4.550027</td>\n",
       "    </tr>\n",
       "    <tr>\n",
       "      <th>1</th>\n",
       "      <td>3.373557</td>\n",
       "      <td>2058.25</td>\n",
       "      <td>0.200000</td>\n",
       "      <td>0.533333</td>\n",
       "      <td>0.333333</td>\n",
       "      <td>0.266667</td>\n",
       "      <td>0.600000</td>\n",
       "      <td>0.400000</td>\n",
       "      <td>0.266667</td>\n",
       "      <td>0.200000</td>\n",
       "      <td>...</td>\n",
       "      <td>35.647900</td>\n",
       "      <td>-26.373561</td>\n",
       "      <td>-22.944135</td>\n",
       "      <td>4.238700</td>\n",
       "      <td>10.759956</td>\n",
       "      <td>12.920603</td>\n",
       "      <td>-2.826069</td>\n",
       "      <td>-22.689116</td>\n",
       "      <td>4.419004</td>\n",
       "      <td>-25.710383</td>\n",
       "    </tr>\n",
       "    <tr>\n",
       "      <th>2</th>\n",
       "      <td>2.999581</td>\n",
       "      <td>1621.67</td>\n",
       "      <td>0.466667</td>\n",
       "      <td>0.733333</td>\n",
       "      <td>0.266667</td>\n",
       "      <td>0.000000</td>\n",
       "      <td>0.666667</td>\n",
       "      <td>0.333333</td>\n",
       "      <td>0.200000</td>\n",
       "      <td>0.066667</td>\n",
       "      <td>...</td>\n",
       "      <td>-17.380460</td>\n",
       "      <td>-50.437432</td>\n",
       "      <td>-43.533364</td>\n",
       "      <td>15.316320</td>\n",
       "      <td>22.040614</td>\n",
       "      <td>25.366572</td>\n",
       "      <td>3.027587</td>\n",
       "      <td>-9.171511</td>\n",
       "      <td>-12.268143</td>\n",
       "      <td>10.436429</td>\n",
       "    </tr>\n",
       "    <tr>\n",
       "      <th>3</th>\n",
       "      <td>3.240224</td>\n",
       "      <td>1994.24</td>\n",
       "      <td>0.266667</td>\n",
       "      <td>0.466667</td>\n",
       "      <td>0.133333</td>\n",
       "      <td>0.133333</td>\n",
       "      <td>0.400000</td>\n",
       "      <td>0.600000</td>\n",
       "      <td>0.200000</td>\n",
       "      <td>0.200000</td>\n",
       "      <td>...</td>\n",
       "      <td>2.569765</td>\n",
       "      <td>-47.922216</td>\n",
       "      <td>17.439259</td>\n",
       "      <td>6.816148</td>\n",
       "      <td>15.048805</td>\n",
       "      <td>1.277371</td>\n",
       "      <td>0.015354</td>\n",
       "      <td>-8.256598</td>\n",
       "      <td>-30.011158</td>\n",
       "      <td>3.735822</td>\n",
       "    </tr>\n",
       "    <tr>\n",
       "      <th>4</th>\n",
       "      <td>2.973557</td>\n",
       "      <td>1886.98</td>\n",
       "      <td>0.400000</td>\n",
       "      <td>0.533333</td>\n",
       "      <td>0.466667</td>\n",
       "      <td>0.066667</td>\n",
       "      <td>0.533333</td>\n",
       "      <td>0.466667</td>\n",
       "      <td>0.333333</td>\n",
       "      <td>0.133333</td>\n",
       "      <td>...</td>\n",
       "      <td>14.440785</td>\n",
       "      <td>-8.553799</td>\n",
       "      <td>17.064434</td>\n",
       "      <td>-1.300365</td>\n",
       "      <td>-2.090274</td>\n",
       "      <td>15.383556</td>\n",
       "      <td>-2.940682</td>\n",
       "      <td>-20.189759</td>\n",
       "      <td>6.422297</td>\n",
       "      <td>-1.409007</td>\n",
       "    </tr>\n",
       "    <tr>\n",
       "      <th>...</th>\n",
       "      <td>...</td>\n",
       "      <td>...</td>\n",
       "      <td>...</td>\n",
       "      <td>...</td>\n",
       "      <td>...</td>\n",
       "      <td>...</td>\n",
       "      <td>...</td>\n",
       "      <td>...</td>\n",
       "      <td>...</td>\n",
       "      <td>...</td>\n",
       "      <td>...</td>\n",
       "      <td>...</td>\n",
       "      <td>...</td>\n",
       "      <td>...</td>\n",
       "      <td>...</td>\n",
       "      <td>...</td>\n",
       "      <td>...</td>\n",
       "      <td>...</td>\n",
       "      <td>...</td>\n",
       "      <td>...</td>\n",
       "      <td>...</td>\n",
       "    </tr>\n",
       "    <tr>\n",
       "      <th>995</th>\n",
       "      <td>2.339572</td>\n",
       "      <td>1698.58</td>\n",
       "      <td>0.666667</td>\n",
       "      <td>0.933333</td>\n",
       "      <td>0.133333</td>\n",
       "      <td>0.066667</td>\n",
       "      <td>0.266667</td>\n",
       "      <td>0.733333</td>\n",
       "      <td>0.200000</td>\n",
       "      <td>0.066667</td>\n",
       "      <td>...</td>\n",
       "      <td>-17.869097</td>\n",
       "      <td>-39.555819</td>\n",
       "      <td>0.614443</td>\n",
       "      <td>20.187730</td>\n",
       "      <td>17.242356</td>\n",
       "      <td>3.542019</td>\n",
       "      <td>-3.737525</td>\n",
       "      <td>-7.933247</td>\n",
       "      <td>-25.216478</td>\n",
       "      <td>10.790430</td>\n",
       "    </tr>\n",
       "    <tr>\n",
       "      <th>996</th>\n",
       "      <td>2.289246</td>\n",
       "      <td>1654.57</td>\n",
       "      <td>0.733333</td>\n",
       "      <td>0.933333</td>\n",
       "      <td>0.200000</td>\n",
       "      <td>0.066667</td>\n",
       "      <td>0.333333</td>\n",
       "      <td>0.666667</td>\n",
       "      <td>0.133333</td>\n",
       "      <td>0.066667</td>\n",
       "      <td>...</td>\n",
       "      <td>-17.869097</td>\n",
       "      <td>-39.555819</td>\n",
       "      <td>0.614443</td>\n",
       "      <td>20.187730</td>\n",
       "      <td>17.242356</td>\n",
       "      <td>3.542019</td>\n",
       "      <td>-3.737525</td>\n",
       "      <td>-7.933247</td>\n",
       "      <td>-25.216478</td>\n",
       "      <td>10.790430</td>\n",
       "    </tr>\n",
       "    <tr>\n",
       "      <th>997</th>\n",
       "      <td>2.415922</td>\n",
       "      <td>1704.64</td>\n",
       "      <td>0.666667</td>\n",
       "      <td>0.866667</td>\n",
       "      <td>0.200000</td>\n",
       "      <td>0.133333</td>\n",
       "      <td>0.333333</td>\n",
       "      <td>0.666667</td>\n",
       "      <td>0.200000</td>\n",
       "      <td>0.133333</td>\n",
       "      <td>...</td>\n",
       "      <td>-17.869097</td>\n",
       "      <td>-39.555819</td>\n",
       "      <td>0.614443</td>\n",
       "      <td>20.187730</td>\n",
       "      <td>17.242356</td>\n",
       "      <td>3.542019</td>\n",
       "      <td>-3.737525</td>\n",
       "      <td>-7.933247</td>\n",
       "      <td>-25.216478</td>\n",
       "      <td>10.790430</td>\n",
       "    </tr>\n",
       "    <tr>\n",
       "      <th>998</th>\n",
       "      <td>2.415922</td>\n",
       "      <td>1704.64</td>\n",
       "      <td>0.666667</td>\n",
       "      <td>0.866667</td>\n",
       "      <td>0.200000</td>\n",
       "      <td>0.133333</td>\n",
       "      <td>0.333333</td>\n",
       "      <td>0.666667</td>\n",
       "      <td>0.200000</td>\n",
       "      <td>0.133333</td>\n",
       "      <td>...</td>\n",
       "      <td>-17.869097</td>\n",
       "      <td>-39.555819</td>\n",
       "      <td>0.614443</td>\n",
       "      <td>20.187730</td>\n",
       "      <td>17.242356</td>\n",
       "      <td>3.542019</td>\n",
       "      <td>-3.737525</td>\n",
       "      <td>-7.933247</td>\n",
       "      <td>-25.216478</td>\n",
       "      <td>10.790430</td>\n",
       "    </tr>\n",
       "    <tr>\n",
       "      <th>999</th>\n",
       "      <td>2.415922</td>\n",
       "      <td>1734.67</td>\n",
       "      <td>0.666667</td>\n",
       "      <td>0.866667</td>\n",
       "      <td>0.133333</td>\n",
       "      <td>0.133333</td>\n",
       "      <td>0.266667</td>\n",
       "      <td>0.733333</td>\n",
       "      <td>0.200000</td>\n",
       "      <td>0.133333</td>\n",
       "      <td>...</td>\n",
       "      <td>-17.869097</td>\n",
       "      <td>-39.555819</td>\n",
       "      <td>0.614443</td>\n",
       "      <td>20.187730</td>\n",
       "      <td>17.242356</td>\n",
       "      <td>3.542019</td>\n",
       "      <td>-3.737525</td>\n",
       "      <td>-7.933247</td>\n",
       "      <td>-25.216478</td>\n",
       "      <td>10.790430</td>\n",
       "    </tr>\n",
       "  </tbody>\n",
       "</table>\n",
       "<p>1000 rows × 385 columns</p>\n",
       "</div>"
      ],
      "text/plain": [
       "     feat_local_Entropy  feat_local_MolWeight  feat_local_AAtypes_Tiny  \\\n",
       "0              2.923231               2080.22                 0.200000   \n",
       "1              3.373557               2058.25                 0.200000   \n",
       "2              2.999581               1621.67                 0.466667   \n",
       "3              3.240224               1994.24                 0.266667   \n",
       "4              2.973557               1886.98                 0.400000   \n",
       "..                  ...                   ...                      ...   \n",
       "995            2.339572               1698.58                 0.666667   \n",
       "996            2.289246               1654.57                 0.733333   \n",
       "997            2.415922               1704.64                 0.666667   \n",
       "998            2.415922               1704.64                 0.666667   \n",
       "999            2.415922               1734.67                 0.666667   \n",
       "\n",
       "     feat_local_AAtypes_Small  feat_local_AAtypes_Aliphatic  \\\n",
       "0                    0.333333                      0.133333   \n",
       "1                    0.533333                      0.333333   \n",
       "2                    0.733333                      0.266667   \n",
       "3                    0.466667                      0.133333   \n",
       "4                    0.533333                      0.466667   \n",
       "..                        ...                           ...   \n",
       "995                  0.933333                      0.133333   \n",
       "996                  0.933333                      0.200000   \n",
       "997                  0.866667                      0.200000   \n",
       "998                  0.866667                      0.200000   \n",
       "999                  0.866667                      0.133333   \n",
       "\n",
       "     feat_local_AAtypes_Aromatic  feat_local_AAtypes_NonPolar  \\\n",
       "0                       0.000000                     0.266667   \n",
       "1                       0.266667                     0.600000   \n",
       "2                       0.000000                     0.666667   \n",
       "3                       0.133333                     0.400000   \n",
       "4                       0.066667                     0.533333   \n",
       "..                           ...                          ...   \n",
       "995                     0.066667                     0.266667   \n",
       "996                     0.066667                     0.333333   \n",
       "997                     0.133333                     0.333333   \n",
       "998                     0.133333                     0.333333   \n",
       "999                     0.133333                     0.266667   \n",
       "\n",
       "     feat_local_AAtypes_Polar  feat_local_AAtypes_Charged  \\\n",
       "0                    0.733333                    0.533333   \n",
       "1                    0.400000                    0.266667   \n",
       "2                    0.333333                    0.200000   \n",
       "3                    0.600000                    0.200000   \n",
       "4                    0.466667                    0.333333   \n",
       "..                        ...                         ...   \n",
       "995                  0.733333                    0.200000   \n",
       "996                  0.666667                    0.133333   \n",
       "997                  0.666667                    0.200000   \n",
       "998                  0.666667                    0.200000   \n",
       "999                  0.733333                    0.200000   \n",
       "\n",
       "     feat_local_AAtypes_Basic  ...  feat_local_ScalesGap_scl2.1.lag3  \\\n",
       "0                    0.266667  ...                        -27.600521   \n",
       "1                    0.200000  ...                         35.647900   \n",
       "2                    0.066667  ...                        -17.380460   \n",
       "3                    0.200000  ...                          2.569765   \n",
       "4                    0.133333  ...                         14.440785   \n",
       "..                        ...  ...                               ...   \n",
       "995                  0.066667  ...                        -17.869097   \n",
       "996                  0.066667  ...                        -17.869097   \n",
       "997                  0.133333  ...                        -17.869097   \n",
       "998                  0.133333  ...                        -17.869097   \n",
       "999                  0.133333  ...                        -17.869097   \n",
       "\n",
       "     feat_local_ScalesGap_scl3.1.lag3  feat_local_ScalesGap_scl4.1.lag3  \\\n",
       "0                            5.992530                         10.273688   \n",
       "1                          -26.373561                        -22.944135   \n",
       "2                          -50.437432                        -43.533364   \n",
       "3                          -47.922216                         17.439259   \n",
       "4                           -8.553799                         17.064434   \n",
       "..                                ...                               ...   \n",
       "995                        -39.555819                          0.614443   \n",
       "996                        -39.555819                          0.614443   \n",
       "997                        -39.555819                          0.614443   \n",
       "998                        -39.555819                          0.614443   \n",
       "999                        -39.555819                          0.614443   \n",
       "\n",
       "     feat_local_ScalesGap_scl5.1.lag3  feat_local_ScalesGap_scl3.2.lag3  \\\n",
       "0                            3.176641                        -11.711654   \n",
       "1                            4.238700                         10.759956   \n",
       "2                           15.316320                         22.040614   \n",
       "3                            6.816148                         15.048805   \n",
       "4                           -1.300365                         -2.090274   \n",
       "..                                ...                               ...   \n",
       "995                         20.187730                         17.242356   \n",
       "996                         20.187730                         17.242356   \n",
       "997                         20.187730                         17.242356   \n",
       "998                         20.187730                         17.242356   \n",
       "999                         20.187730                         17.242356   \n",
       "\n",
       "     feat_local_ScalesGap_scl4.2.lag3  feat_local_ScalesGap_scl5.2.lag3  \\\n",
       "0                            5.088667                        -11.889737   \n",
       "1                           12.920603                         -2.826069   \n",
       "2                           25.366572                          3.027587   \n",
       "3                            1.277371                          0.015354   \n",
       "4                           15.383556                         -2.940682   \n",
       "..                                ...                               ...   \n",
       "995                          3.542019                         -3.737525   \n",
       "996                          3.542019                         -3.737525   \n",
       "997                          3.542019                         -3.737525   \n",
       "998                          3.542019                         -3.737525   \n",
       "999                          3.542019                         -3.737525   \n",
       "\n",
       "     feat_local_ScalesGap_scl4.3.lag3  feat_local_ScalesGap_scl5.3.lag3  \\\n",
       "0                          -10.239192                         15.820483   \n",
       "1                          -22.689116                          4.419004   \n",
       "2                           -9.171511                        -12.268143   \n",
       "3                           -8.256598                        -30.011158   \n",
       "4                          -20.189759                          6.422297   \n",
       "..                                ...                               ...   \n",
       "995                         -7.933247                        -25.216478   \n",
       "996                         -7.933247                        -25.216478   \n",
       "997                         -7.933247                        -25.216478   \n",
       "998                         -7.933247                        -25.216478   \n",
       "999                         -7.933247                        -25.216478   \n",
       "\n",
       "     feat_local_ScalesGap_scl5.4.lag3  \n",
       "0                           -4.550027  \n",
       "1                          -25.710383  \n",
       "2                           10.436429  \n",
       "3                            3.735822  \n",
       "4                           -1.409007  \n",
       "..                                ...  \n",
       "995                         10.790430  \n",
       "996                         10.790430  \n",
       "997                         10.790430  \n",
       "998                         10.790430  \n",
       "999                         10.790430  \n",
       "\n",
       "[1000 rows x 385 columns]"
      ]
     },
     "execution_count": 82,
     "metadata": {},
     "output_type": "execute_result"
    }
   ],
   "source": [
    "X_res"
   ]
  },
  {
   "cell_type": "code",
   "execution_count": 83,
   "id": "7cbd18e7",
   "metadata": {},
   "outputs": [],
   "source": [
    "#Importing neccessary libraries\n",
    "from sklearn.metrics import accuracy_score, f1_score, precision_score, recall_score, classification_report, confusion_matrix"
   ]
  },
  {
   "cell_type": "markdown",
   "id": "5f794611",
   "metadata": {},
   "source": [
    "# DATA MODELLING ON GIVEN DATA SET "
   ]
  },
  {
   "cell_type": "code",
   "execution_count": 84,
   "id": "d9312a58",
   "metadata": {},
   "outputs": [
    {
     "name": "stderr",
     "output_type": "stream",
     "text": [
      "C:\\Users\\syedn\\anaconda3\\lib\\site-packages\\sklearn\\linear_model\\_logistic.py:814: ConvergenceWarning: lbfgs failed to converge (status=1):\n",
      "STOP: TOTAL NO. of ITERATIONS REACHED LIMIT.\n",
      "\n",
      "Increase the number of iterations (max_iter) or scale the data as shown in:\n",
      "    https://scikit-learn.org/stable/modules/preprocessing.html\n",
      "Please also refer to the documentation for alternative solver options:\n",
      "    https://scikit-learn.org/stable/modules/linear_model.html#logistic-regression\n",
      "  n_iter_i = _check_optimize_result(\n"
     ]
    },
    {
     "data": {
      "text/plain": [
       "LogisticRegression()"
      ]
     },
     "execution_count": 84,
     "metadata": {},
     "output_type": "execute_result"
    }
   ],
   "source": [
    "#using logistic regression\n",
    "from sklearn.linear_model import LogisticRegression\n",
    "clf = LogisticRegression()\n",
    "clf.fit(X_res, y_res)"
   ]
  },
  {
   "cell_type": "markdown",
   "id": "aaae5218",
   "metadata": {},
   "source": [
    "### Printing scores of Logistic regression using confusion matrix. "
   ]
  },
  {
   "cell_type": "code",
   "execution_count": 85,
   "id": "196cd473",
   "metadata": {},
   "outputs": [
    {
     "data": {
      "text/plain": [
       "Text(69.0, 0.5, 'Truth')"
      ]
     },
     "execution_count": 85,
     "metadata": {},
     "output_type": "execute_result"
    },
    {
     "data": {
      "image/png": "[encoded data removed]",
      "text/plain": [
       "<Figure size 720x720 with 2 Axes>"
      ]
     },
     "metadata": {
      "needs_background": "light"
     },
     "output_type": "display_data"
    }
   ],
   "source": [
    "#Printing scores of Logistic regression\n",
    "y_pred = clf.predict(x_test)\n",
    "f1_LR=f1_score(y_test,y_pred, average='macro')\n",
    "\n",
    "cm = confusion_matrix(y_test, y_pred)\n",
    "import seaborn as sn\n",
    "plt.figure(figsize = (10,10))\n",
    "sn.heatmap(cm, annot=True,fmt='g')\n",
    "plt.xlabel('Predicted')\n",
    "plt.ylabel('Truth')"
   ]
  },
  {
   "cell_type": "markdown",
   "id": "f16d96a5",
   "metadata": {},
   "source": [
    "### F1 Score of Logistic Regression "
   ]
  },
  {
   "cell_type": "code",
   "execution_count": 86,
   "id": "4705eedc",
   "metadata": {},
   "outputs": [
    {
     "data": {
      "text/plain": [
       "0.4650562313600644"
      ]
     },
     "execution_count": 86,
     "metadata": {},
     "output_type": "execute_result"
    }
   ],
   "source": [
    "f1_LR"
   ]
  },
  {
   "cell_type": "code",
   "execution_count": 87,
   "id": "b25a16b0",
   "metadata": {},
   "outputs": [
    {
     "data": {
      "text/plain": [
       "Text(69.0, 0.5, 'Truth')"
      ]
     },
     "execution_count": 87,
     "metadata": {},
     "output_type": "execute_result"
    },
    {
     "data": {
      "image/png": "[encoded data removed]",
      "text/plain": [
       "<Figure size 720x720 with 2 Axes>"
      ]
     },
     "metadata": {
      "needs_background": "light"
     },
     "output_type": "display_data"
    }
   ],
   "source": [
    "#Using KNN classifier\n",
    "from sklearn.neighbors import KNeighborsClassifier\n",
    "\n",
    "clf1 = KNeighborsClassifier(n_neighbors = 5, metric = 'minkowski', p = 2)\n",
    "clf1.fit(X_res, y_res)\n",
    "#Printing scores of KNN classifier\n",
    "y_pred = clf1.predict(x_test)\n",
    "f1_KNN=f1_score(y_test,y_pred, average='macro')\n",
    "\n",
    "import seaborn as sn\n",
    "plt.figure(figsize = (10,10))\n",
    "sn.heatmap(cm, annot=True,fmt='g')\n",
    "plt.xlabel('Predicted')\n",
    "plt.ylabel('Truth')"
   ]
  },
  {
   "cell_type": "code",
   "execution_count": 88,
   "id": "634e239b",
   "metadata": {},
   "outputs": [
    {
     "data": {
      "text/plain": [
       "0.407827346673029"
      ]
     },
     "execution_count": 88,
     "metadata": {},
     "output_type": "execute_result"
    }
   ],
   "source": [
    "f1_KNN"
   ]
  },
  {
   "cell_type": "markdown",
   "id": "477f672a",
   "metadata": {},
   "source": [
    "### Printing scores of K-NN using confusion matrix. "
   ]
  },
  {
   "cell_type": "code",
   "execution_count": 89,
   "id": "2f4f499e",
   "metadata": {},
   "outputs": [
    {
     "data": {
      "text/plain": [
       "Text(69.0, 0.5, 'Truth')"
      ]
     },
     "execution_count": 89,
     "metadata": {},
     "output_type": "execute_result"
    },
    {
     "data": {
      "image/png": "[encoded data removed]",
      "text/plain": [
       "<Figure size 720x720 with 2 Axes>"
      ]
     },
     "metadata": {
      "needs_background": "light"
     },
     "output_type": "display_data"
    }
   ],
   "source": [
    "#Trying decision tree classifier\n",
    "from sklearn.tree import DecisionTreeClassifier\n",
    "cls = DecisionTreeClassifier(criterion = 'entropy', random_state = 0)\n",
    "cls.fit(X_res, y_res)\n",
    "#Printing scores of decision tree classifier\n",
    "y_pred = cls.predict(x_test)\n",
    "f1_DT=f1_score(y_test,y_pred, average='macro')\n",
    "\n",
    "import seaborn as sn\n",
    "plt.figure(figsize = (10,10))\n",
    "sn.heatmap(cm, annot=True,fmt='g')\n",
    "plt.xlabel('Predicted')\n",
    "plt.ylabel('Truth')"
   ]
  },
  {
   "cell_type": "markdown",
   "id": "14095203",
   "metadata": {},
   "source": [
    "### F1 Score of K-NN. "
   ]
  },
  {
   "cell_type": "code",
   "execution_count": 90,
   "id": "97899f25",
   "metadata": {},
   "outputs": [
    {
     "data": {
      "text/plain": [
       "0.47875486535018497"
      ]
     },
     "execution_count": 90,
     "metadata": {},
     "output_type": "execute_result"
    }
   ],
   "source": [
    "f1_DT"
   ]
  },
  {
   "cell_type": "markdown",
   "id": "d173c3d4",
   "metadata": {},
   "source": [
    "### Printing scores of Random Forest using confusion matrix. "
   ]
  },
  {
   "cell_type": "code",
   "execution_count": 91,
   "id": "0a8c19e2",
   "metadata": {},
   "outputs": [
    {
     "data": {
      "text/plain": [
       "Text(33.0, 0.5, 'Truth')"
      ]
     },
     "execution_count": 91,
     "metadata": {},
     "output_type": "execute_result"
    },
    {
     "data": {
      "image/png": "[encoded data removed]",
      "text/plain": [
       "<Figure size 432x288 with 2 Axes>"
      ]
     },
     "metadata": {
      "needs_background": "light"
     },
     "output_type": "display_data"
    }
   ],
   "source": [
    "#Trying Random forest classifier\n",
    "from sklearn.ensemble import RandomForestClassifier\n",
    "clf2 = RandomForestClassifier(n_estimators = 50, criterion = 'entropy', max_depth= 10 , max_features= 6)\n",
    "clf2.fit(X_res, y_res)\n",
    "#Printing scores of Random forest classifier\n",
    "y_pred = clf2.predict(x_test)\n",
    "f1_RF=f1_score(y_test,y_pred, average='macro')\n",
    "\n",
    "import seaborn as sn\n",
    "#plt.figure(figsize = (10,10))\n",
    "sn.heatmap(cm, annot=True,fmt='g')\n",
    "plt.xlabel('Predicted')\n",
    "plt.ylabel('Truth')"
   ]
  },
  {
   "cell_type": "markdown",
   "id": "4100c82a",
   "metadata": {},
   "source": [
    "### F1 Score for Random forest "
   ]
  },
  {
   "cell_type": "code",
   "execution_count": 92,
   "id": "76394876",
   "metadata": {},
   "outputs": [
    {
     "data": {
      "text/plain": [
       "0.5341094387552625"
      ]
     },
     "execution_count": 92,
     "metadata": {},
     "output_type": "execute_result"
    }
   ],
   "source": [
    "f1_RF"
   ]
  },
  {
   "cell_type": "markdown",
   "id": "387efd66",
   "metadata": {},
   "source": [
    "# Random Forest gives the highest Score.\n",
    "# "
   ]
  },
  {
   "cell_type": "markdown",
   "id": "7b21207d",
   "metadata": {},
   "source": [
    "### printing scores of xgboost using confusion matrix and F1 score. "
   ]
  },
  {
   "cell_type": "code",
   "execution_count": 93,
   "id": "05567f2e",
   "metadata": {},
   "outputs": [
    {
     "name": "stderr",
     "output_type": "stream",
     "text": [
      "C:\\Users\\syedn\\anaconda3\\lib\\site-packages\\xgboost\\sklearn.py:1224: UserWarning: The use of label encoder in XGBClassifier is deprecated and will be removed in a future release. To remove this warning, do the following: 1) Pass option use_label_encoder=False when constructing XGBClassifier object; and 2) Encode your labels (y) as integers starting with 0, i.e. 0, 1, 2, ..., [num_class - 1].\n",
      "  warnings.warn(label_encoder_deprecation_msg, UserWarning)\n"
     ]
    },
    {
     "name": "stdout",
     "output_type": "stream",
     "text": [
      "[16:41:28] WARNING: C:/Users/Administrator/workspace/xgboost-win64_release_1.5.1/src/learner.cc:1115: Starting in XGBoost 1.3.0, the default evaluation metric used with the objective 'binary:logistic' was changed from 'error' to 'logloss'. Explicitly set eval_metric if you'd like to restore the old behavior.\n"
     ]
    },
    {
     "data": {
      "text/plain": [
       "0.5237949799515679"
      ]
     },
     "execution_count": 93,
     "metadata": {},
     "output_type": "execute_result"
    }
   ],
   "source": [
    "import xgboost as xgb\n",
    "\n",
    "clf_xgb = xgb.XGBClassifier( max_depth=4, random_state = 42, n_jobs = 4)\n",
    "clf_xgb.fit(X_res, y_res)\n",
    "y_pred = clf_xgb.predict(x_test)\n",
    "f1_XG=f1_score(y_test,y_pred, average='macro')\n",
    "f1_XG"
   ]
  },
  {
   "cell_type": "code",
   "execution_count": 94,
   "id": "622525cd",
   "metadata": {},
   "outputs": [
    {
     "data": {
      "text/plain": [
       "Text(69.0, 0.5, 'Truth')"
      ]
     },
     "execution_count": 94,
     "metadata": {},
     "output_type": "execute_result"
    },
    {
     "data": {
      "image/png": "[encoded data removed]",
      "text/plain": [
       "<Figure size 720x720 with 2 Axes>"
      ]
     },
     "metadata": {
      "needs_background": "light"
     },
     "output_type": "display_data"
    }
   ],
   "source": [
    "import seaborn as sn\n",
    "plt.figure(figsize = (10,10))\n",
    "sn.heatmap(cm, annot=True,fmt='g')\n",
    "plt.xlabel('Predicted')\n",
    "plt.ylabel('Truth')"
   ]
  },
  {
   "cell_type": "markdown",
   "id": "f2222367",
   "metadata": {},
   "source": [
    "### Importing the Test data set. "
   ]
  },
  {
   "cell_type": "code",
   "execution_count": 95,
   "id": "e22718c0",
   "metadata": {},
   "outputs": [
    {
     "name": "stderr",
     "output_type": "stream",
     "text": [
      "C:\\Users\\syedn\\anaconda3\\lib\\site-packages\\IPython\\core\\interactiveshell.py:3444: DtypeWarning: Columns (5,7) have mixed types.Specify dtype option on import or set low_memory=False.\n",
      "  exec(code_obj, self.user_global_ns, self.user_ns)\n"
     ]
    }
   ],
   "source": [
    "df_hold= pd.read_csv(\"df_holdout.csv\")"
   ]
  },
  {
   "cell_type": "code",
   "execution_count": 96,
   "id": "a07848d6",
   "metadata": {},
   "outputs": [],
   "source": [
    "#dropping the columns not necessary in test data set.\n",
    "df_final = df_hold.drop(columns=['Info_PepID', 'Info_organism_id', 'Info_protein_id', 'Info_pos',\n",
    "       'Info_AA', 'Info_pubmed_id', 'Info_epitope_id', 'Info_host_id',\n",
    "       'Info_nPos', 'Info_nNeg','Info_window','Info_cluster','Info_split'])"
   ]
  },
  {
   "cell_type": "code",
   "execution_count": 97,
   "id": "bf679396",
   "metadata": {},
   "outputs": [],
   "source": [
    "#adding a new column predicted_class which contains the predicted value of the test set.\n",
    "df_final['Predicted_Class']=clf2.predict(df_final)"
   ]
  },
  {
   "cell_type": "code",
   "execution_count": 98,
   "id": "1b584b4e",
   "metadata": {},
   "outputs": [
    {
     "data": {
      "text/html": [
       "<div>\n",
       "<style scoped>\n",
       "    .dataframe tbody tr th:only-of-type {\n",
       "        vertical-align: middle;\n",
       "    }\n",
       "\n",
       "    .dataframe tbody tr th {\n",
       "        vertical-align: top;\n",
       "    }\n",
       "\n",
       "    .dataframe thead th {\n",
       "        text-align: right;\n",
       "    }\n",
       "</style>\n",
       "<table border=\"1\" class=\"dataframe\">\n",
       "  <thead>\n",
       "    <tr style=\"text-align: right;\">\n",
       "      <th></th>\n",
       "      <th>feat_local_Entropy</th>\n",
       "      <th>feat_local_MolWeight</th>\n",
       "      <th>feat_local_AAtypes_Tiny</th>\n",
       "      <th>feat_local_AAtypes_Small</th>\n",
       "      <th>feat_local_AAtypes_Aliphatic</th>\n",
       "      <th>feat_local_AAtypes_Aromatic</th>\n",
       "      <th>feat_local_AAtypes_NonPolar</th>\n",
       "      <th>feat_local_AAtypes_Polar</th>\n",
       "      <th>feat_local_AAtypes_Charged</th>\n",
       "      <th>feat_local_AAtypes_Basic</th>\n",
       "      <th>...</th>\n",
       "      <th>feat_local_ScalesGap_scl3.1.lag3</th>\n",
       "      <th>feat_local_ScalesGap_scl4.1.lag3</th>\n",
       "      <th>feat_local_ScalesGap_scl5.1.lag3</th>\n",
       "      <th>feat_local_ScalesGap_scl3.2.lag3</th>\n",
       "      <th>feat_local_ScalesGap_scl4.2.lag3</th>\n",
       "      <th>feat_local_ScalesGap_scl5.2.lag3</th>\n",
       "      <th>feat_local_ScalesGap_scl4.3.lag3</th>\n",
       "      <th>feat_local_ScalesGap_scl5.3.lag3</th>\n",
       "      <th>feat_local_ScalesGap_scl5.4.lag3</th>\n",
       "      <th>Predicted_Class</th>\n",
       "    </tr>\n",
       "  </thead>\n",
       "  <tbody>\n",
       "    <tr>\n",
       "      <th>0</th>\n",
       "      <td>2.440224</td>\n",
       "      <td>1985.11</td>\n",
       "      <td>0.400000</td>\n",
       "      <td>0.400000</td>\n",
       "      <td>0.266667</td>\n",
       "      <td>0.133333</td>\n",
       "      <td>0.466667</td>\n",
       "      <td>0.533333</td>\n",
       "      <td>0.266667</td>\n",
       "      <td>0.000000</td>\n",
       "      <td>...</td>\n",
       "      <td>10.212623</td>\n",
       "      <td>24.889555</td>\n",
       "      <td>-8.141488</td>\n",
       "      <td>2.648292</td>\n",
       "      <td>7.236000</td>\n",
       "      <td>1.899302</td>\n",
       "      <td>10.442917</td>\n",
       "      <td>-10.245384</td>\n",
       "      <td>-1.101085</td>\n",
       "      <td>-1</td>\n",
       "    </tr>\n",
       "    <tr>\n",
       "      <th>1</th>\n",
       "      <td>2.573557</td>\n",
       "      <td>1925.01</td>\n",
       "      <td>0.466667</td>\n",
       "      <td>0.466667</td>\n",
       "      <td>0.266667</td>\n",
       "      <td>0.066667</td>\n",
       "      <td>0.400000</td>\n",
       "      <td>0.600000</td>\n",
       "      <td>0.266667</td>\n",
       "      <td>0.000000</td>\n",
       "      <td>...</td>\n",
       "      <td>16.508058</td>\n",
       "      <td>23.589776</td>\n",
       "      <td>-2.984973</td>\n",
       "      <td>-0.528107</td>\n",
       "      <td>9.714819</td>\n",
       "      <td>0.773754</td>\n",
       "      <td>14.709717</td>\n",
       "      <td>-12.379972</td>\n",
       "      <td>-0.935527</td>\n",
       "      <td>-1</td>\n",
       "    </tr>\n",
       "    <tr>\n",
       "      <th>2</th>\n",
       "      <td>2.606239</td>\n",
       "      <td>1866.97</td>\n",
       "      <td>0.533333</td>\n",
       "      <td>0.533333</td>\n",
       "      <td>0.333333</td>\n",
       "      <td>0.066667</td>\n",
       "      <td>0.466667</td>\n",
       "      <td>0.533333</td>\n",
       "      <td>0.200000</td>\n",
       "      <td>0.000000</td>\n",
       "      <td>...</td>\n",
       "      <td>11.838805</td>\n",
       "      <td>26.953382</td>\n",
       "      <td>-4.866418</td>\n",
       "      <td>-0.370650</td>\n",
       "      <td>9.601392</td>\n",
       "      <td>0.837201</td>\n",
       "      <td>11.795860</td>\n",
       "      <td>-10.750096</td>\n",
       "      <td>-5.336032</td>\n",
       "      <td>-1</td>\n",
       "    </tr>\n",
       "    <tr>\n",
       "      <th>3</th>\n",
       "      <td>2.789898</td>\n",
       "      <td>1866.03</td>\n",
       "      <td>0.533333</td>\n",
       "      <td>0.533333</td>\n",
       "      <td>0.333333</td>\n",
       "      <td>0.066667</td>\n",
       "      <td>0.466667</td>\n",
       "      <td>0.533333</td>\n",
       "      <td>0.200000</td>\n",
       "      <td>0.066667</td>\n",
       "      <td>...</td>\n",
       "      <td>7.961824</td>\n",
       "      <td>31.299999</td>\n",
       "      <td>-5.170461</td>\n",
       "      <td>2.175602</td>\n",
       "      <td>6.076406</td>\n",
       "      <td>0.494105</td>\n",
       "      <td>11.670982</td>\n",
       "      <td>-7.979119</td>\n",
       "      <td>-4.995618</td>\n",
       "      <td>-1</td>\n",
       "    </tr>\n",
       "    <tr>\n",
       "      <th>4</th>\n",
       "      <td>2.789898</td>\n",
       "      <td>1866.03</td>\n",
       "      <td>0.533333</td>\n",
       "      <td>0.533333</td>\n",
       "      <td>0.333333</td>\n",
       "      <td>0.066667</td>\n",
       "      <td>0.466667</td>\n",
       "      <td>0.533333</td>\n",
       "      <td>0.200000</td>\n",
       "      <td>0.066667</td>\n",
       "      <td>...</td>\n",
       "      <td>17.556689</td>\n",
       "      <td>33.671912</td>\n",
       "      <td>1.716937</td>\n",
       "      <td>2.606437</td>\n",
       "      <td>4.843954</td>\n",
       "      <td>1.367897</td>\n",
       "      <td>11.934643</td>\n",
       "      <td>-7.631075</td>\n",
       "      <td>2.901006</td>\n",
       "      <td>-1</td>\n",
       "    </tr>\n",
       "    <tr>\n",
       "      <th>...</th>\n",
       "      <td>...</td>\n",
       "      <td>...</td>\n",
       "      <td>...</td>\n",
       "      <td>...</td>\n",
       "      <td>...</td>\n",
       "      <td>...</td>\n",
       "      <td>...</td>\n",
       "      <td>...</td>\n",
       "      <td>...</td>\n",
       "      <td>...</td>\n",
       "      <td>...</td>\n",
       "      <td>...</td>\n",
       "      <td>...</td>\n",
       "      <td>...</td>\n",
       "      <td>...</td>\n",
       "      <td>...</td>\n",
       "      <td>...</td>\n",
       "      <td>...</td>\n",
       "      <td>...</td>\n",
       "      <td>...</td>\n",
       "      <td>...</td>\n",
       "    </tr>\n",
       "    <tr>\n",
       "      <th>115115</th>\n",
       "      <td>3.323231</td>\n",
       "      <td>2034.24</td>\n",
       "      <td>0.266667</td>\n",
       "      <td>0.533333</td>\n",
       "      <td>0.333333</td>\n",
       "      <td>0.266667</td>\n",
       "      <td>0.533333</td>\n",
       "      <td>0.466667</td>\n",
       "      <td>0.133333</td>\n",
       "      <td>0.133333</td>\n",
       "      <td>...</td>\n",
       "      <td>-24.470667</td>\n",
       "      <td>-27.722282</td>\n",
       "      <td>4.410659</td>\n",
       "      <td>4.267216</td>\n",
       "      <td>7.622234</td>\n",
       "      <td>1.085596</td>\n",
       "      <td>-6.350201</td>\n",
       "      <td>1.682633</td>\n",
       "      <td>2.062462</td>\n",
       "      <td>-1</td>\n",
       "    </tr>\n",
       "    <tr>\n",
       "      <th>115116</th>\n",
       "      <td>3.139572</td>\n",
       "      <td>2007.21</td>\n",
       "      <td>0.333333</td>\n",
       "      <td>0.600000</td>\n",
       "      <td>0.333333</td>\n",
       "      <td>0.266667</td>\n",
       "      <td>0.533333</td>\n",
       "      <td>0.466667</td>\n",
       "      <td>0.133333</td>\n",
       "      <td>0.133333</td>\n",
       "      <td>...</td>\n",
       "      <td>-13.726349</td>\n",
       "      <td>-30.885573</td>\n",
       "      <td>6.225646</td>\n",
       "      <td>2.862018</td>\n",
       "      <td>9.714138</td>\n",
       "      <td>0.613732</td>\n",
       "      <td>-0.712953</td>\n",
       "      <td>0.986394</td>\n",
       "      <td>1.605931</td>\n",
       "      <td>-1</td>\n",
       "    </tr>\n",
       "    <tr>\n",
       "      <th>115117</th>\n",
       "      <td>3.139572</td>\n",
       "      <td>1957.19</td>\n",
       "      <td>0.333333</td>\n",
       "      <td>0.600000</td>\n",
       "      <td>0.400000</td>\n",
       "      <td>0.200000</td>\n",
       "      <td>0.533333</td>\n",
       "      <td>0.466667</td>\n",
       "      <td>0.133333</td>\n",
       "      <td>0.133333</td>\n",
       "      <td>...</td>\n",
       "      <td>-7.920183</td>\n",
       "      <td>-15.111873</td>\n",
       "      <td>8.616273</td>\n",
       "      <td>2.059419</td>\n",
       "      <td>7.234419</td>\n",
       "      <td>0.299683</td>\n",
       "      <td>3.678106</td>\n",
       "      <td>1.286302</td>\n",
       "      <td>1.486408</td>\n",
       "      <td>-1</td>\n",
       "    </tr>\n",
       "    <tr>\n",
       "      <th>115118</th>\n",
       "      <td>3.006239</td>\n",
       "      <td>2007.26</td>\n",
       "      <td>0.266667</td>\n",
       "      <td>0.533333</td>\n",
       "      <td>0.400000</td>\n",
       "      <td>0.266667</td>\n",
       "      <td>0.533333</td>\n",
       "      <td>0.466667</td>\n",
       "      <td>0.200000</td>\n",
       "      <td>0.200000</td>\n",
       "      <td>...</td>\n",
       "      <td>-1.422266</td>\n",
       "      <td>-12.721278</td>\n",
       "      <td>12.975264</td>\n",
       "      <td>0.252933</td>\n",
       "      <td>7.471802</td>\n",
       "      <td>-1.365325</td>\n",
       "      <td>-0.107333</td>\n",
       "      <td>0.408510</td>\n",
       "      <td>2.378515</td>\n",
       "      <td>-1</td>\n",
       "    </tr>\n",
       "    <tr>\n",
       "      <th>115119</th>\n",
       "      <td>3.139572</td>\n",
       "      <td>1988.22</td>\n",
       "      <td>0.266667</td>\n",
       "      <td>0.533333</td>\n",
       "      <td>0.400000</td>\n",
       "      <td>0.200000</td>\n",
       "      <td>0.466667</td>\n",
       "      <td>0.533333</td>\n",
       "      <td>0.200000</td>\n",
       "      <td>0.200000</td>\n",
       "      <td>...</td>\n",
       "      <td>-3.768989</td>\n",
       "      <td>-13.680552</td>\n",
       "      <td>11.577294</td>\n",
       "      <td>2.062520</td>\n",
       "      <td>8.731966</td>\n",
       "      <td>0.005555</td>\n",
       "      <td>-2.511658</td>\n",
       "      <td>-1.766435</td>\n",
       "      <td>1.587938</td>\n",
       "      <td>-1</td>\n",
       "    </tr>\n",
       "  </tbody>\n",
       "</table>\n",
       "<p>115120 rows × 386 columns</p>\n",
       "</div>"
      ],
      "text/plain": [
       "        feat_local_Entropy  feat_local_MolWeight  feat_local_AAtypes_Tiny  \\\n",
       "0                 2.440224               1985.11                 0.400000   \n",
       "1                 2.573557               1925.01                 0.466667   \n",
       "2                 2.606239               1866.97                 0.533333   \n",
       "3                 2.789898               1866.03                 0.533333   \n",
       "4                 2.789898               1866.03                 0.533333   \n",
       "...                    ...                   ...                      ...   \n",
       "115115            3.323231               2034.24                 0.266667   \n",
       "115116            3.139572               2007.21                 0.333333   \n",
       "115117            3.139572               1957.19                 0.333333   \n",
       "115118            3.006239               2007.26                 0.266667   \n",
       "115119            3.139572               1988.22                 0.266667   \n",
       "\n",
       "        feat_local_AAtypes_Small  feat_local_AAtypes_Aliphatic  \\\n",
       "0                       0.400000                      0.266667   \n",
       "1                       0.466667                      0.266667   \n",
       "2                       0.533333                      0.333333   \n",
       "3                       0.533333                      0.333333   \n",
       "4                       0.533333                      0.333333   \n",
       "...                          ...                           ...   \n",
       "115115                  0.533333                      0.333333   \n",
       "115116                  0.600000                      0.333333   \n",
       "115117                  0.600000                      0.400000   \n",
       "115118                  0.533333                      0.400000   \n",
       "115119                  0.533333                      0.400000   \n",
       "\n",
       "        feat_local_AAtypes_Aromatic  feat_local_AAtypes_NonPolar  \\\n",
       "0                          0.133333                     0.466667   \n",
       "1                          0.066667                     0.400000   \n",
       "2                          0.066667                     0.466667   \n",
       "3                          0.066667                     0.466667   \n",
       "4                          0.066667                     0.466667   \n",
       "...                             ...                          ...   \n",
       "115115                     0.266667                     0.533333   \n",
       "115116                     0.266667                     0.533333   \n",
       "115117                     0.200000                     0.533333   \n",
       "115118                     0.266667                     0.533333   \n",
       "115119                     0.200000                     0.466667   \n",
       "\n",
       "        feat_local_AAtypes_Polar  feat_local_AAtypes_Charged  \\\n",
       "0                       0.533333                    0.266667   \n",
       "1                       0.600000                    0.266667   \n",
       "2                       0.533333                    0.200000   \n",
       "3                       0.533333                    0.200000   \n",
       "4                       0.533333                    0.200000   \n",
       "...                          ...                         ...   \n",
       "115115                  0.466667                    0.133333   \n",
       "115116                  0.466667                    0.133333   \n",
       "115117                  0.466667                    0.133333   \n",
       "115118                  0.466667                    0.200000   \n",
       "115119                  0.533333                    0.200000   \n",
       "\n",
       "        feat_local_AAtypes_Basic  ...  feat_local_ScalesGap_scl3.1.lag3  \\\n",
       "0                       0.000000  ...                         10.212623   \n",
       "1                       0.000000  ...                         16.508058   \n",
       "2                       0.000000  ...                         11.838805   \n",
       "3                       0.066667  ...                          7.961824   \n",
       "4                       0.066667  ...                         17.556689   \n",
       "...                          ...  ...                               ...   \n",
       "115115                  0.133333  ...                        -24.470667   \n",
       "115116                  0.133333  ...                        -13.726349   \n",
       "115117                  0.133333  ...                         -7.920183   \n",
       "115118                  0.200000  ...                         -1.422266   \n",
       "115119                  0.200000  ...                         -3.768989   \n",
       "\n",
       "        feat_local_ScalesGap_scl4.1.lag3  feat_local_ScalesGap_scl5.1.lag3  \\\n",
       "0                              24.889555                         -8.141488   \n",
       "1                              23.589776                         -2.984973   \n",
       "2                              26.953382                         -4.866418   \n",
       "3                              31.299999                         -5.170461   \n",
       "4                              33.671912                          1.716937   \n",
       "...                                  ...                               ...   \n",
       "115115                        -27.722282                          4.410659   \n",
       "115116                        -30.885573                          6.225646   \n",
       "115117                        -15.111873                          8.616273   \n",
       "115118                        -12.721278                         12.975264   \n",
       "115119                        -13.680552                         11.577294   \n",
       "\n",
       "        feat_local_ScalesGap_scl3.2.lag3  feat_local_ScalesGap_scl4.2.lag3  \\\n",
       "0                               2.648292                          7.236000   \n",
       "1                              -0.528107                          9.714819   \n",
       "2                              -0.370650                          9.601392   \n",
       "3                               2.175602                          6.076406   \n",
       "4                               2.606437                          4.843954   \n",
       "...                                  ...                               ...   \n",
       "115115                          4.267216                          7.622234   \n",
       "115116                          2.862018                          9.714138   \n",
       "115117                          2.059419                          7.234419   \n",
       "115118                          0.252933                          7.471802   \n",
       "115119                          2.062520                          8.731966   \n",
       "\n",
       "        feat_local_ScalesGap_scl5.2.lag3  feat_local_ScalesGap_scl4.3.lag3  \\\n",
       "0                               1.899302                         10.442917   \n",
       "1                               0.773754                         14.709717   \n",
       "2                               0.837201                         11.795860   \n",
       "3                               0.494105                         11.670982   \n",
       "4                               1.367897                         11.934643   \n",
       "...                                  ...                               ...   \n",
       "115115                          1.085596                         -6.350201   \n",
       "115116                          0.613732                         -0.712953   \n",
       "115117                          0.299683                          3.678106   \n",
       "115118                         -1.365325                         -0.107333   \n",
       "115119                          0.005555                         -2.511658   \n",
       "\n",
       "        feat_local_ScalesGap_scl5.3.lag3  feat_local_ScalesGap_scl5.4.lag3  \\\n",
       "0                             -10.245384                         -1.101085   \n",
       "1                             -12.379972                         -0.935527   \n",
       "2                             -10.750096                         -5.336032   \n",
       "3                              -7.979119                         -4.995618   \n",
       "4                              -7.631075                          2.901006   \n",
       "...                                  ...                               ...   \n",
       "115115                          1.682633                          2.062462   \n",
       "115116                          0.986394                          1.605931   \n",
       "115117                          1.286302                          1.486408   \n",
       "115118                          0.408510                          2.378515   \n",
       "115119                         -1.766435                          1.587938   \n",
       "\n",
       "        Predicted_Class  \n",
       "0                    -1  \n",
       "1                    -1  \n",
       "2                    -1  \n",
       "3                    -1  \n",
       "4                    -1  \n",
       "...                 ...  \n",
       "115115               -1  \n",
       "115116               -1  \n",
       "115117               -1  \n",
       "115118               -1  \n",
       "115119               -1  \n",
       "\n",
       "[115120 rows x 386 columns]"
      ]
     },
     "execution_count": 98,
     "metadata": {},
     "output_type": "execute_result"
    }
   ],
   "source": [
    "df_final"
   ]
  },
  {
   "cell_type": "code",
   "execution_count": 99,
   "id": "d47e0bd3",
   "metadata": {},
   "outputs": [],
   "source": [
    "df3 = df_hold.filter(['Info_protein_id','Info_pos'])"
   ]
  },
  {
   "cell_type": "code",
   "execution_count": 100,
   "id": "e4eb5d93",
   "metadata": {},
   "outputs": [
    {
     "data": {
      "text/html": [
       "<div>\n",
       "<style scoped>\n",
       "    .dataframe tbody tr th:only-of-type {\n",
       "        vertical-align: middle;\n",
       "    }\n",
       "\n",
       "    .dataframe tbody tr th {\n",
       "        vertical-align: top;\n",
       "    }\n",
       "\n",
       "    .dataframe thead th {\n",
       "        text-align: right;\n",
       "    }\n",
       "</style>\n",
       "<table border=\"1\" class=\"dataframe\">\n",
       "  <thead>\n",
       "    <tr style=\"text-align: right;\">\n",
       "      <th></th>\n",
       "      <th>Info_protein_id</th>\n",
       "      <th>Info_pos</th>\n",
       "      <th>Predicted_Class</th>\n",
       "    </tr>\n",
       "  </thead>\n",
       "  <tbody>\n",
       "    <tr>\n",
       "      <th>0</th>\n",
       "      <td>EAN87014.1</td>\n",
       "      <td>1</td>\n",
       "      <td>-1</td>\n",
       "    </tr>\n",
       "    <tr>\n",
       "      <th>1</th>\n",
       "      <td>EAN87014.1</td>\n",
       "      <td>2</td>\n",
       "      <td>-1</td>\n",
       "    </tr>\n",
       "    <tr>\n",
       "      <th>2</th>\n",
       "      <td>EAN87014.1</td>\n",
       "      <td>3</td>\n",
       "      <td>-1</td>\n",
       "    </tr>\n",
       "    <tr>\n",
       "      <th>3</th>\n",
       "      <td>EAN87014.1</td>\n",
       "      <td>4</td>\n",
       "      <td>-1</td>\n",
       "    </tr>\n",
       "    <tr>\n",
       "      <th>4</th>\n",
       "      <td>EAN87014.1</td>\n",
       "      <td>5</td>\n",
       "      <td>-1</td>\n",
       "    </tr>\n",
       "    <tr>\n",
       "      <th>...</th>\n",
       "      <td>...</td>\n",
       "      <td>...</td>\n",
       "      <td>...</td>\n",
       "    </tr>\n",
       "    <tr>\n",
       "      <th>115115</th>\n",
       "      <td>AAC47720.1</td>\n",
       "      <td>555</td>\n",
       "      <td>-1</td>\n",
       "    </tr>\n",
       "    <tr>\n",
       "      <th>115116</th>\n",
       "      <td>AAC47720.1</td>\n",
       "      <td>556</td>\n",
       "      <td>-1</td>\n",
       "    </tr>\n",
       "    <tr>\n",
       "      <th>115117</th>\n",
       "      <td>AAC47720.1</td>\n",
       "      <td>557</td>\n",
       "      <td>-1</td>\n",
       "    </tr>\n",
       "    <tr>\n",
       "      <th>115118</th>\n",
       "      <td>AAC47720.1</td>\n",
       "      <td>558</td>\n",
       "      <td>-1</td>\n",
       "    </tr>\n",
       "    <tr>\n",
       "      <th>115119</th>\n",
       "      <td>AAC47720.1</td>\n",
       "      <td>559</td>\n",
       "      <td>-1</td>\n",
       "    </tr>\n",
       "  </tbody>\n",
       "</table>\n",
       "<p>115120 rows × 3 columns</p>\n",
       "</div>"
      ],
      "text/plain": [
       "       Info_protein_id  Info_pos  Predicted_Class\n",
       "0           EAN87014.1         1               -1\n",
       "1           EAN87014.1         2               -1\n",
       "2           EAN87014.1         3               -1\n",
       "3           EAN87014.1         4               -1\n",
       "4           EAN87014.1         5               -1\n",
       "...                ...       ...              ...\n",
       "115115      AAC47720.1       555               -1\n",
       "115116      AAC47720.1       556               -1\n",
       "115117      AAC47720.1       557               -1\n",
       "115118      AAC47720.1       558               -1\n",
       "115119      AAC47720.1       559               -1\n",
       "\n",
       "[115120 rows x 3 columns]"
      ]
     },
     "execution_count": 100,
     "metadata": {},
     "output_type": "execute_result"
    }
   ],
   "source": [
    "df3['Predicted_Class']=df_final['Predicted_Class']\n",
    "df3"
   ]
  },
  {
   "cell_type": "markdown",
   "id": "c1f17ffa",
   "metadata": {},
   "source": [
    "## Exporting the final results obtained to csv file."
   ]
  },
  {
   "cell_type": "code",
   "execution_count": 101,
   "id": "7070eaa0",
   "metadata": {},
   "outputs": [],
   "source": [
    "df3.to_csv('final_output_class_prediction.csv')"
   ]
  }
 ],
 "metadata": {
  "kernelspec": {
   "display_name": "Python 3 (ipykernel)",
   "language": "python",
   "name": "python3"
  },
  "language_info": {
   "codemirror_mode": {
    "name": "ipython",
    "version": 3
   },
   "file_extension": ".py",
   "mimetype": "text/x-python",
   "name": "python",
   "nbconvert_exporter": "python",
   "pygments_lexer": "ipython3",
   "version": "3.8.12"
  }
 },
 "nbformat": 4,
 "nbformat_minor": 5
}
